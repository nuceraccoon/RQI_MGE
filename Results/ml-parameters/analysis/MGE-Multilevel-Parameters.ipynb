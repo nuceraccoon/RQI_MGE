{
 "cells": [
  {
   "cell_type": "markdown",
   "metadata": {},
   "source": [
    "This notebook analyzes the results from a run of the short c5g7 examples with a small mesh to determine the optimal parameters for the multilevel preconditioner when using RQI.\n",
    "\n",
    "The parameters that were varied were the following:\n",
    "\n",
    "* 'subspace_size' : [50, 100, 150],\n",
    "* 'num_v_cycles'  : [1, 2, 3],\n",
    "* 'num_relax'     : [1, 2, 3],\n",
    "* 'relax_weight'  : [0.8, 1.0, 1.2]"
   ]
  },
  {
   "cell_type": "markdown",
   "metadata": {},
   "source": [
    "First let's pull out the solve time which is in the hdf5 output under the timers: omnibus::Denovo_Manager_Base.solve"
   ]
  },
  {
   "cell_type": "code",
   "execution_count": 1,
   "metadata": {
    "collapsed": true
   },
   "outputs": [],
   "source": [
    "import h5py as h5\n",
    "import numpy as np\n",
    "import matplotlib.pyplot as plt\n",
    "import glob\n",
    "import sys\n",
    "import os\n",
    "\n",
    "%matplotlib inline"
   ]
  },
  {
   "cell_type": "markdown",
   "metadata": {},
   "source": [
    "Grab the max solve time over all processors for each case"
   ]
  },
  {
   "cell_type": "code",
   "execution_count": 3,
   "metadata": {},
   "outputs": [
    {
     "name": "stdout",
     "output_type": "stream",
     "text": [
      "rayleigh_quotient-ss050-vcyc01-r01-rwt0.8\n",
      "rayleigh_quotient-ss050-vcyc01-r01-rwt1.0\n",
      "rayleigh_quotient-ss150-vcyc01-r01-rwt0.8\n"
     ]
    }
   ],
   "source": [
    "# Printing out the cases that exceeded the walltime\n",
    "solve_times = {}\n",
    "for dir in glob.glob(\"../results/*\"):\n",
    "    d = os.path.basename(dir)\n",
    "    output = '{}/c5g7_small.out.h5'.format(dir)\n",
    "    with h5.File(str(output), 'r') as f:\n",
    "        if 'denovo' in f.keys():\n",
    "            solve_times[d] = f['denovo']['timers'][-1][1]\n",
    "        else:\n",
    "            print(d)"
   ]
  },
  {
   "cell_type": "code",
   "execution_count": 4,
   "metadata": {
    "collapsed": true
   },
   "outputs": [],
   "source": [
    "subspace = ['050', '100', '150']\n",
    "vcyc = ['1', '2', '3']\n",
    "relax = ['1', '2', '3']\n",
    "relaxwt = ['0.8', '1.0', '1.2']\n",
    "data = np.zeros((3,3,3,3))\n",
    "for k,v in solve_times.iteritems():\n",
    "    c = k.split('-')\n",
    "    ss = c[1].strip('ss')\n",
    "    vc = c[2].strip('vcyc0')\n",
    "    rn = c[3].strip('r0')\n",
    "    rwt = c[4].strip('rwt')\n",
    "    ssi = subspace.index(ss)\n",
    "    vci = vcyc.index(vc)\n",
    "    rni = relax.index(rn)\n",
    "    rwti = relaxwt.index(rwt)\n",
    "    data[ssi, vci, rni, rwti] = v"
   ]
  },
  {
   "cell_type": "code",
   "execution_count": 5,
   "metadata": {},
   "outputs": [
    {
     "data": {
      "text/plain": [
       "array([[ 28323.648066,  17959.02994 ,  19002.059891],\n",
       "       [ 20229.864674,  23413.700164,  24564.974064],\n",
       "       [ 22812.123063,  25465.919206,  27970.129496]])"
      ]
     },
     "execution_count": 5,
     "metadata": {},
     "output_type": "execute_result"
    }
   ],
   "source": [
    "# Subspace 150, relax weight 1.0\n",
    "data[2,:,:,1]\n",
    "# vcycle = 1,2,3: relaxations = 1,2,3"
   ]
  },
  {
   "cell_type": "code",
   "execution_count": 6,
   "metadata": {},
   "outputs": [
    {
     "data": {
      "text/plain": [
       "array([[ 16385.890967,  16018.364849,  17272.216046],\n",
       "       [ 18431.180447,  19994.510145,  21894.844287],\n",
       "       [ 21065.52182 ,  22796.258548,  25737.581029]])"
      ]
     },
     "execution_count": 6,
     "metadata": {},
     "output_type": "execute_result"
    }
   ],
   "source": [
    "# Subspace 150, relax weight 1.2\n",
    "data[2,:,:,2]"
   ]
  },
  {
   "cell_type": "code",
   "execution_count": 7,
   "metadata": {
    "collapsed": true
   },
   "outputs": [],
   "source": [
    "# Make things pretty (find the minimum time)\n",
    "import pandas as pd"
   ]
  },
  {
   "cell_type": "code",
   "execution_count": 9,
   "metadata": {},
   "outputs": [
    {
     "data": {
      "text/html": [
       "<div>\n",
       "<table border=\"1\" class=\"dataframe\">\n",
       "  <thead>\n",
       "    <tr style=\"text-align: right;\">\n",
       "      <th></th>\n",
       "      <th>1</th>\n",
       "      <th>2</th>\n",
       "      <th>3</th>\n",
       "    </tr>\n",
       "  </thead>\n",
       "  <tbody>\n",
       "    <tr>\n",
       "      <th>1</th>\n",
       "      <td>16385.890967</td>\n",
       "      <td>16018.364849</td>\n",
       "      <td>17272.216046</td>\n",
       "    </tr>\n",
       "    <tr>\n",
       "      <th>2</th>\n",
       "      <td>18431.180447</td>\n",
       "      <td>19994.510145</td>\n",
       "      <td>21894.844287</td>\n",
       "    </tr>\n",
       "    <tr>\n",
       "      <th>3</th>\n",
       "      <td>21065.521820</td>\n",
       "      <td>22796.258548</td>\n",
       "      <td>25737.581029</td>\n",
       "    </tr>\n",
       "  </tbody>\n",
       "</table>\n",
       "</div>"
      ],
      "text/plain": [
       "              1             2             3\n",
       "1  16385.890967  16018.364849  17272.216046\n",
       "2  18431.180447  19994.510145  21894.844287\n",
       "3  21065.521820  22796.258548  25737.581029"
      ]
     },
     "execution_count": 9,
     "metadata": {},
     "output_type": "execute_result"
    }
   ],
   "source": [
    "df = pd.DataFrame(data[2,:,:,2], columns=relax, index=vcyc)\n",
    "df"
   ]
  },
  {
   "cell_type": "code",
   "execution_count": 13,
   "metadata": {},
   "outputs": [
    {
     "data": {
      "text/plain": [
       "<matplotlib.text.Text at 0x105d1f2d0>"
      ]
     },
     "execution_count": 13,
     "metadata": {},
     "output_type": "execute_result"
    },
    {
     "data": {
      "image/png": "[encoded data removed]",
      "text/plain": [
       "<matplotlib.figure.Figure at 0x105ea3c90>"
      ]
     },
     "metadata": {},
     "output_type": "display_data"
    }
   ],
   "source": [
    "# Plotting the subspace of 150\n",
    "plt.plot(data[:,0,1,0], label='relax wt=0.8')\n",
    "plt.plot(data[:,0,1,1], label='relax wt=1.0')\n",
    "plt.plot(data[:,0,1,2], label='relax wt=1.2')\n",
    "plt.legend()\n",
    "plt.ylabel('Solve Time [s]')\n",
    "plt.xlabel('Number of V-cycles')"
   ]
  },
  {
   "cell_type": "code",
   "execution_count": null,
   "metadata": {
    "collapsed": true
   },
   "outputs": [],
   "source": []
  }
 ],
 "metadata": {
  "kernelspec": {
   "display_name": "Python 2",
   "language": "python",
   "name": "python2"
  },
  "language_info": {
   "codemirror_mode": {
    "name": "ipython",
    "version": 2
   },
   "file_extension": ".py",
   "mimetype": "text/x-python",
   "name": "python",
   "nbconvert_exporter": "python",
   "pygments_lexer": "ipython2",
   "version": "2.7.13"
  }
 },
 "nbformat": 4,
 "nbformat_minor": 2
}
